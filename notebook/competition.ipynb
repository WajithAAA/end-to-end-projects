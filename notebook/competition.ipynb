{
 "cells": [
  {
   "cell_type": "code",
   "execution_count": 8,
   "metadata": {},
   "outputs": [],
   "source": [
    "import random"
   ]
  },
  {
   "cell_type": "code",
   "execution_count": 54,
   "metadata": {},
   "outputs": [],
   "source": [
    "name_list = [\n",
    "\"f. sumaiya\",\n",
    "\"s. m.saabir\",\n",
    "\"mhf. safna\",\n",
    "\"H. m husni\",\n",
    "\"a. r athaila\",\n",
    "\"m. m. musharrifa \",\n",
    "\"m. akram \",\n",
    "\". m. m. ammar\",\n",
    "\"f. m. safan\",\n",
    "\"mnf. hasna\",\n",
    "\"அப். asla \",\n",
    "\"a. banu \",\n",
    "\"a.m. afham\",\n",
    "\"s. saraf\",\n",
    "\"f. fikra\",\n",
    "\"f. rifka\",\n",
    "\"msf. sajeera \",\n",
    "\"m. s. thaslima \",\n",
    "\"A. r farmila bagam\",\n",
    "\"m. j. m. Ahmad \",\n",
    "\"j. adhala\",\n",
    "\"j. s.rusna \",\n",
    "\" w.nashath banu\",\n",
    "\"i. h.. azka banu\",\n",
    "\"m. j. afla\",\n",
    "]"
   ]
  },
  {
   "cell_type": "code",
   "execution_count": 52,
   "metadata": {},
   "outputs": [
    {
     "data": {
      "text/plain": [
       "25"
      ]
     },
     "execution_count": 52,
     "metadata": {},
     "output_type": "execute_result"
    }
   ],
   "source": [
    "len(name_list)"
   ]
  },
  {
   "cell_type": "code",
   "execution_count": 63,
   "metadata": {},
   "outputs": [
    {
     "data": {
      "text/plain": [
       "' w.nashath banu'"
      ]
     },
     "execution_count": 63,
     "metadata": {},
     "output_type": "execute_result"
    }
   ],
   "source": [
    "random.choice(name_list)"
   ]
  },
  {
   "cell_type": "code",
   "execution_count": 1,
   "metadata": {},
   "outputs": [],
   "source": [
    "import numpy as np"
   ]
  },
  {
   "cell_type": "code",
   "execution_count": 3,
   "metadata": {},
   "outputs": [
    {
     "data": {
      "text/plain": [
       "array([4])"
      ]
     },
     "execution_count": 3,
     "metadata": {},
     "output_type": "execute_result"
    }
   ],
   "source": [
    "np.random.randint(1,27,1)"
   ]
  },
  {
   "cell_type": "code",
   "execution_count": null,
   "metadata": {},
   "outputs": [],
   "source": []
  }
 ],
 "metadata": {
  "kernelspec": {
   "display_name": "Python 3",
   "language": "python",
   "name": "python3"
  },
  "language_info": {
   "codemirror_mode": {
    "name": "ipython",
    "version": 3
   },
   "file_extension": ".py",
   "mimetype": "text/x-python",
   "name": "python",
   "nbconvert_exporter": "python",
   "pygments_lexer": "ipython3",
   "version": "3.8.0"
  },
  "orig_nbformat": 4,
  "vscode": {
   "interpreter": {
    "hash": "95fc576aea42b1cafddaded0624751d2ed10888d0a35f3cf64bd45771598bdbc"
   }
  }
 },
 "nbformat": 4,
 "nbformat_minor": 2
}
